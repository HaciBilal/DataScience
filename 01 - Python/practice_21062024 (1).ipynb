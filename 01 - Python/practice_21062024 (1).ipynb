{
 "cells": [
  {
   "cell_type": "markdown",
   "metadata": {},
   "source": [
    "**1. Fatura Hesaplayıcı:**\n",
    "\n",
    "Sorun Bildirimi: Bir restoran işletmecisi, müşterilere sunulan hizmetlerin maliyetlerini hesaplamak için bir program istiyor.\n",
    "\n",
    "Görev: Program, bir yemeğin veya hizmetin maliyetini ve müşteri tarafından verilen bahşişi alarak toplam ücreti hesaplar.\n",
    "\n",
    "Çözüm: Kullanıcıdan yemeğin maliyeti ve bahşiş yüzdesi gibi bilgileri alarak, toplam ücreti hesaplayan bir Python programı yazın.\n"
   ]
  },
  {
   "cell_type": "code",
   "execution_count": null,
   "metadata": {},
   "outputs": [],
   "source": []
  },
  {
   "cell_type": "markdown",
   "metadata": {},
   "source": [
    "**2. Saat Dönüştürücü:**\n",
    "\n",
    "Sorun Bildirimi: Bir seyahat planlayıcısı, farklı saat dilimlerindeki saatleri dönüştürmek için bir araç istiyor.\n",
    "\n",
    "Görev: Program, kullanıcıdan bir saat dilimi ve saat bilgisi alarak, farklı saat dilimlerindeki saatleri dönüştürmelidir.\n",
    "\n",
    "Çözüm: Python'da saat dilimlerini dönüştüren ve kullanıcıya sonucu gösteren bir program yazın.\n"
   ]
  },
  {
   "cell_type": "code",
   "execution_count": null,
   "metadata": {},
   "outputs": [],
   "source": []
  },
  {
   "cell_type": "markdown",
   "metadata": {},
   "source": [
    "**3.\tSeyahat Bütçesi Planlayıcı:**\n",
    "\n",
    "Sorun Bildirimi: Bir seyahat acentesi, müşterilerinin seyahat bütçesini planlamak için bir araç istiyor.\n",
    "\n",
    "Görev: Program, kullanıcının seyahat edeceği bölgeye göre otel, uçak bileti, yeme-içme gibi harcamaları dikkate alarak bir seyahat bütçesi oluşturmalıdır.\n",
    "\n",
    "Çözüm: Python'da bir veri tabanı kullanarak ve API'ler aracılığıyla fiyatları çeken bir program yazın ve kullanıcının seyahat bütçesini planlayın.\n"
   ]
  },
  {
   "cell_type": "code",
   "execution_count": null,
   "metadata": {},
   "outputs": [],
   "source": []
  },
  {
   "cell_type": "markdown",
   "metadata": {},
   "source": [
    "**4.\tYatırım Getiri Analizi:**\n",
    "\n",
    "Sorun Bildirimi: Bir finansal danışman, müşterilerinin yatırımlarının getirisini analiz etmek için bir araç istiyor.\n",
    "\n",
    "Görev: Program, kullanıcının yaptığı yatırımların getirisini hesaplamalı ve analiz etmelidir.\n",
    "\n",
    "Çözüm: Python'da finansal verileri analiz eden bir kütüphane kullanarak, kullanıcının yatırımlarının getirisini hesaplayan bir program yazın.\n"
   ]
  },
  {
   "cell_type": "code",
   "execution_count": null,
   "metadata": {},
   "outputs": [],
   "source": []
  },
  {
   "cell_type": "markdown",
   "metadata": {},
   "source": [
    "**5. Metin Mesajı Analizi**\n",
    "\n",
    "Sorun Bildirimi: Bir metin mesajı analizi uygulaması oluşturun. Kullanıcı, bir metin mesajını giriş olarak verecek ve uygulamanın mesajdaki kelimelerin sayısını, cümle sayısını ve karakter sayısını belirlemesini sağlamalıdır.\n",
    "\n",
    "Görev: Kullanıcı tarafından sağlanan metin mesajını analiz ederek aşağıdaki bilgileri sağlayın:\n",
    "\n",
    "    Toplam kelime sayısı\n",
    "    Toplam cümle sayısı\n",
    "    Toplam karakter sayısı\n",
    "\n",
    "Bonus: Kullanıcının sağladığı metin mesajını analiz ederken, aynı zamanda en sık kullanılan kelimeleri veya karakterleri belirleyin ve kullanıcıya raporlayın."
   ]
  },
  {
   "cell_type": "code",
   "execution_count": null,
   "metadata": {},
   "outputs": [],
   "source": []
  },
  {
   "cell_type": "markdown",
   "metadata": {},
   "source": [
    "**6. Palindrom Sorgulayıcı**\n",
    "\n",
    "Sorun Bildirimi: Bir palindrom sorgulayıcı uygulaması oluşturun. Kullanıcı, bir kelime veya cümle girişi yapacak ve uygulamanın bu girişin bir palindrom olup olmadığını kontrol etmesini sağlamalıdır.\n",
    "\n",
    "Görev: Kullanıcının girişini alarak, uygulamanın bunun bir palindrom olup olmadığını belirlemesini sağlayın. Bir palindrom, soldan sağa veya sağdan sola okunduğunda aynı olan bir kelime veya cümledir.\n",
    "\n",
    "Bonus: Kullanıcıya, girişin bir palindrom olup olmadığını belirleme sürecini görselleştiren bir arayüz sağlayın, örneğin girişin ters çevrilmiş halini görüntüleyerek."
   ]
  },
  {
   "cell_type": "code",
   "execution_count": null,
   "metadata": {},
   "outputs": [],
   "source": []
  },
  {
   "cell_type": "markdown",
   "metadata": {},
   "source": [
    "**7. Karakter Dizisi Dönüşümü**\n",
    "\n",
    "Sorun Bildirimi: Bir karakter dizisini farklı biçimlerde dönüştüren bir program yazın. Kullanıcı, bir giriş karakter dizisi ve dönüşüm türü seçerek dönüştürülen karakter dizisini görmelidir.\n",
    "\n",
    "Görev: Kullanıcının sağladığı giriş karakter dizisini, kullanıcının seçtiği dönüşüm türüne göre dönüştürün. Dönüşüm türleri arasında büyük harfe dönüştürme, küçük harfe dönüştürme, baş harfleri büyük yapma ve ters çevirme gibi seçenekler bulunabilir.\n",
    "\n",
    "Bonus: Kullanıcının sağladığı karakter dizisini daha karmaşık biçimlerde dönüştürme seçenekleri ekleyin, örneğin metni tersine çevirme veya harfleri biraz değiştirme."
   ]
  },
  {
   "cell_type": "code",
   "execution_count": null,
   "metadata": {},
   "outputs": [],
   "source": []
  },
  {
   "cell_type": "markdown",
   "metadata": {},
   "source": [
    "**8. Email Doğrulama**\n",
    "\n",
    "Sorun Bildirimi: Bir kullanıcının girdiği e-posta adresinin doğruluğunu kontrol eden bir program yazın.\n",
    "\n",
    "Görev: Kullanıcıdan bir e-posta adresi alın. Ardından, bu e-posta adresinin geçerli bir adres olup olmadığını kontrol edin. Geçerli bir e-posta adresi, genellikle bir kullanıcı adı, \"@\" işareti, alan adı ve bir üst düzey alan adından oluşur. Örneğin, \"ornek@ornek.com\" gibi. Programınız, kullanıcıya e-posta adresinin geçerli olup olmadığını bildirmelidir.\n",
    "\n",
    "Bonus: E-posta adresinin yanı sıra, kullanıcının girdiği metnin içindeki diğer e-posta adreslerini de bulup listelemeyi deneyin."
   ]
  },
  {
   "cell_type": "code",
   "execution_count": null,
   "metadata": {},
   "outputs": [],
   "source": []
  },
  {
   "cell_type": "markdown",
   "metadata": {},
   "source": [
    "**9. Güçlü Şifre Oluşturucu**\n",
    "\n",
    "* Karmaşık bir şifre oluşturmak için kullanıcı girdisi alan bir Python programı yazın. \n",
    "* Program, kullanıcıdan şifreye dahil etmek istedikleri ünlüler, ünsüzler, sayılar, noktalama işaretleri ve sayısal olmayan karakterler gibi karakter türlerini belirtmesini istemelidir. \n",
    "* Kullanıcının girişine bağlı olarak, 8, 9, 10, 11 veya 12 karakterden oluşan rastgele bir şifre oluşturun. \n",
    "* Lütfen oluşturulan şifrenin kullanıcının belirlediği kriterleri karşıladığından emin olun."
   ]
  },
  {
   "cell_type": "code",
   "execution_count": null,
   "metadata": {},
   "outputs": [],
   "source": []
  }
 ],
 "metadata": {
  "kernelspec": {
   "display_name": "Python 3",
   "language": "python",
   "name": "python3"
  },
  "language_info": {
   "codemirror_mode": {
    "name": "ipython",
    "version": 3
   },
   "file_extension": ".py",
   "mimetype": "text/x-python",
   "name": "python",
   "nbconvert_exporter": "python",
   "pygments_lexer": "ipython3",
   "version": "3.11.4"
  }
 },
 "nbformat": 4,
 "nbformat_minor": 2
}
