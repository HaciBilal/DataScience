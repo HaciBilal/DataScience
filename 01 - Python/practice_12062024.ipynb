{
 "cells": [
  {
   "cell_type": "markdown",
   "metadata": {},
   "source": [
    "1. Taban kenar uzunluğu 5 cm, Yükseklik uzunluğu 10 cm olan üçgenin alanını hesaplayınız."
   ]
  },
  {
   "cell_type": "code",
   "execution_count": 1,
   "metadata": {},
   "outputs": [
    {
     "name": "stdout",
     "output_type": "stream",
     "text": [
      "Üçgenin alanı: 25.0\n",
      "Üçgenin alanı: 25.0\n"
     ]
    }
   ],
   "source": [
    "base = 5\n",
    "height = 10\n",
    "area = (base * height) / 2\n",
    "print(\"Üçgenin alanı:\", area)\n",
    "print(\"Üçgenin alanı:\", (base * height) / 2)"
   ]
  },
  {
   "cell_type": "markdown",
   "metadata": {},
   "source": [
    "2. Yarıçapı 7 cm olan dairenin çevresini hesaplayınız. (π = 3)"
   ]
  },
  {
   "cell_type": "code",
   "execution_count": 1,
   "metadata": {},
   "outputs": [
    {
     "name": "stdout",
     "output_type": "stream",
     "text": [
      "Dairenin çevresi: 42\n"
     ]
    }
   ],
   "source": [
    "radius = 7\n",
    "pi = 3\n",
    "circumference = 2 * pi * radius # çevre = 2 * pi * r\n",
    "\n",
    "print (\"Dairenin çevresi:\", circumference)"
   ]
  },
  {
   "cell_type": "markdown",
   "metadata": {},
   "source": [
    "3. Bir dikdörtgenin uzun kenarı 8 cm, kısa kenarı 5 cm'dir. Dikdörgenin alanı kaç cm²'dir?"
   ]
  },
  {
   "cell_type": "code",
   "execution_count": 2,
   "metadata": {},
   "outputs": [
    {
     "name": "stdout",
     "output_type": "stream",
     "text": [
      "Dikdörtgenin alanı: 40\n"
     ]
    }
   ],
   "source": [
    "length = 8\n",
    "width = 5\n",
    "area = length * width\n",
    "\n",
    "print(\"Dikdörtgenin alanı:\", area)"
   ]
  },
  {
   "cell_type": "markdown",
   "metadata": {},
   "source": [
    "4. 1'den 10 a kadar olan sayıların karesini ekrana yazdırın."
   ]
  },
  {
   "cell_type": "code",
   "execution_count": 3,
   "metadata": {},
   "outputs": [
    {
     "name": "stdout",
     "output_type": "stream",
     "text": [
      "1'in karesi: 1\n",
      "2'nin karesi: 4\n",
      "3'ün karesi: 9\n",
      "4'ün karesi: 16\n",
      "5'in karesi: 25\n",
      "6'nın karesi: 36\n",
      "7'nin karesi: 49\n",
      "8'in karesi: 64\n",
      "9'un karesi: 81\n",
      "10'un karesi: 100\n"
     ]
    }
   ],
   "source": [
    "a = 1\n",
    "print(\"1'in karesi:\", a ** 2)\n",
    "print(\"2'nin karesi:\", (a + 1) ** 2)\n",
    "print(\"3'ün karesi:\", (a + 2) ** 2)\n",
    "print(\"4'ün karesi:\", (a + 3) ** 2)\n",
    "print(\"5'in karesi:\", (a + 4) ** 2)\n",
    "print(\"6'nın karesi:\", (a + 5) ** 2)\n",
    "print(\"7'nin karesi:\", (a + 6) ** 2)\n",
    "print(\"8'in karesi:\", (a + 7) ** 2)\n",
    "print(\"9'un karesi:\", (a + 8) ** 2)\n",
    "print(\"10'un karesi:\", (a + 9) ** 2)"
   ]
  },
  {
   "cell_type": "markdown",
   "metadata": {},
   "source": [
    "5. a=10, b=20 dir. a ile b değerlerinin yerini değiştirip sonuç olarak a=20 ve b=10 elde etmek için gerekli algoritmayı oluşturup python kodlarını yazınız. Not: Yeniden değer atamadan yapınız."
   ]
  },
  {
   "cell_type": "code",
   "execution_count": 4,
   "metadata": {},
   "outputs": [
    {
     "name": "stdout",
     "output_type": "stream",
     "text": [
      "a: 20\n",
      "b: 10\n"
     ]
    }
   ],
   "source": [
    "a = 10\n",
    "b = 20\n",
    "degisim = 0\n",
    "degisim = a\n",
    "a = b\n",
    "b = degisim\n",
    "\n",
    "print(\"a:\", a)\n",
    "print(\"b:\", b)"
   ]
  },
  {
   "cell_type": "code",
   "execution_count": 5,
   "metadata": {},
   "outputs": [
    {
     "name": "stdout",
     "output_type": "stream",
     "text": [
      "a: 20\n",
      "b: 10\n"
     ]
    }
   ],
   "source": [
    "a = 10\n",
    "b = 20\n",
    "\n",
    "a, b = b, a\n",
    "\n",
    "print(\"a:\", a)\n",
    "print(\"b:\", b)"
   ]
  },
  {
   "cell_type": "markdown",
   "metadata": {},
   "source": [
    "6. Yaş Hesaplama:\n",
    "\n",
    "Kullanıcıdan doğum yılını alarak yaşını hesaplayın ve farklı veri tipleri ile işlem yapın."
   ]
  },
  {
   "cell_type": "code",
   "execution_count": 8,
   "metadata": {},
   "outputs": [
    {
     "name": "stdout",
     "output_type": "stream",
     "text": [
      "Yaşınız: 44\n"
     ]
    }
   ],
   "source": [
    "birth_year = input(\"Doğum yılınızı giriniz:\") # string\n",
    "birth_year = int(birth_year)\n",
    "\n",
    "current_year = 2024\n",
    "\n",
    "age = current_year - birth_year\n",
    "\n",
    "print(\"Yaşınız:\", age)"
   ]
  },
  {
   "cell_type": "code",
   "execution_count": 9,
   "metadata": {},
   "outputs": [
    {
     "name": "stdout",
     "output_type": "stream",
     "text": [
      "Yaşınız: 39\n"
     ]
    }
   ],
   "source": [
    "birth_year = int(input(\"Doğum yılınızı giriniz:\")) # string\n",
    "\n",
    "\n",
    "current_year = 2024\n",
    "\n",
    "age = current_year - birth_year\n",
    "\n",
    "print(\"Yaşınız:\", age)"
   ]
  },
  {
   "cell_type": "markdown",
   "metadata": {},
   "source": [
    "7. Vücut Kitle İndeksi (BMI) Hesaplama:\n",
    "\n",
    "Kullanıcıdan kilo ve boy bilgilerini alarak BMI hesaplayın ve sonucu ekrana yazdırın."
   ]
  },
  {
   "cell_type": "code",
   "execution_count": 12,
   "metadata": {},
   "outputs": [
    {
     "name": "stdout",
     "output_type": "stream",
     "text": [
      "Vücut Kitle İndeksiniz: 23.37\n"
     ]
    }
   ],
   "source": [
    "# bmi = kg / boy(m)²\n",
    "weight = float(input(\"Kilonuzu giriniz (kg):\"))\n",
    "height = float(input(\"Boyunuzu giriniz (metre, 1.75 gibi):\"))\n",
    "\n",
    "bmi = weight / (height ** 2)\n",
    "\n",
    "print(\"Vücut Kitle İndeksiniz:\", round(bmi, 2))\n"
   ]
  },
  {
   "cell_type": "code",
   "execution_count": 11,
   "metadata": {},
   "outputs": [
    {
     "data": {
      "text/plain": [
       "15.35"
      ]
     },
     "execution_count": 11,
     "metadata": {},
     "output_type": "execute_result"
    }
   ],
   "source": [
    "round(15.3546546513132, 2)"
   ]
  },
  {
   "cell_type": "markdown",
   "metadata": {},
   "source": [
    "8. Alışveriş Faturası Hesaplama:\n",
    "\n",
    "Kullanıcıdan ürün fiyatlarını ve adetlerini alarak toplam tutarı hesaplayın."
   ]
  },
  {
   "cell_type": "code",
   "execution_count": 14,
   "metadata": {},
   "outputs": [
    {
     "name": "stdout",
     "output_type": "stream",
     "text": [
      "Toplam tutar: 670000.0\n"
     ]
    }
   ],
   "source": [
    "price1 = float(input(\"1. Ürünün fiyatını giriniz: \"))\n",
    "quantity1 = int(input(\"1. Ürünün adetini giriniz: \"))\n",
    "price2 = float(input(\"2. Ürünün fiyatını giriniz: \"))\n",
    "quantity2 = int(input(\"2. Ürünün adetini giriniz: \"))\n",
    "\n",
    "total = (price1 * quantity1) + (price2 * quantity2)\n",
    "\n",
    "print(\"Toplam tutar:\", total)"
   ]
  },
  {
   "cell_type": "markdown",
   "metadata": {},
   "source": [
    "9. Döviz Çevirici:\n",
    "\n",
    "Kullanıcıdan bir miktar para alarak güncel döviz kuru ile farklı bir para birimine çevirin."
   ]
  },
  {
   "cell_type": "code",
   "execution_count": 16,
   "metadata": {},
   "outputs": [
    {
     "name": "stdout",
     "output_type": "stream",
     "text": [
      "Çevrilen miktar: 84000.0\n"
     ]
    }
   ],
   "source": [
    "amount = float(input(\"Çevrilecek miktarı giriniz: \"))\n",
    "conversion_rate = 0.84 # 1 USD = 0.84 EUR\n",
    "converted_amount = amount * conversion_rate\n",
    "\n",
    "print(\"Çevrilen miktar:\", round(converted_amount, 2))"
   ]
  },
  {
   "cell_type": "markdown",
   "metadata": {},
   "source": [
    "10. İndirim Hesaplama:\n",
    "\n",
    "Kullanıcıdan ürünün fiyatını ve indirim yüzdesini alarak indirimli fiyatı hesaplayın."
   ]
  },
  {
   "cell_type": "code",
   "execution_count": 17,
   "metadata": {},
   "outputs": [
    {
     "name": "stdout",
     "output_type": "stream",
     "text": [
      "İndirimli fiyat:  10440.0\n"
     ]
    }
   ],
   "source": [
    "original_price = float(input(\"Ürünün orijinal fiyatını giriniz: \"))\n",
    "discount_percentage = float(input(\"İndirim yüzdesini giriniz: \"))\n",
    "discount_amount = original_price * (discount_percentage / 100)\n",
    "discounted_price = original_price - discount_amount\n",
    "\n",
    "print(\"İndirimli fiyat: \", round(discounted_price, 2))"
   ]
  },
  {
   "cell_type": "markdown",
   "metadata": {},
   "source": [
    "11. Mesafe Dönüştürücü:\n",
    "\n",
    "Kullanıcıdan kilometre veya mil cinsinden bir mesafe alarak farklı birimlere çevirin."
   ]
  },
  {
   "cell_type": "code",
   "execution_count": 18,
   "metadata": {},
   "outputs": [
    {
     "name": "stdout",
     "output_type": "stream",
     "text": [
      "125.0 kilometre = 77.5 mildir.\n"
     ]
    }
   ],
   "source": [
    "kilometers = float(input(\"Kilometre cinsinden mesafeyi giriniz:\"))\n",
    "miles = kilometers * 0.62\n",
    "print(kilometers, \"kilometre =\", round(miles, 2), \"mildir.\")"
   ]
  },
  {
   "cell_type": "markdown",
   "metadata": {},
   "source": [
    "12. Kullanıcıdan bir saniye değeri girmesini isteyin. girilen saniyeyi saat dakika ve sn cinsinden yazdırın. <br><br>\n",
    "örn: 19520 sn >> 5 saat, 25 dk, 20 saniye "
   ]
  },
  {
   "cell_type": "code",
   "execution_count": 22,
   "metadata": {},
   "outputs": [
    {
     "name": "stdout",
     "output_type": "stream",
     "text": [
      "Girdiğiniz 30000 saniye =\n",
      " 8 saat\n",
      " 20 dakika ve\n",
      " 0 saniye eder.\n"
     ]
    }
   ],
   "source": [
    "girilen_saniye = int(input(\"Lütfen hesaplanmasını istediğiniz saniye değerini giriniz:\"))\n",
    "\n",
    "saat = girilen_saniye // 3600\n",
    "\n",
    "dakika = (girilen_saniye % 3600) // 60\n",
    "\n",
    "saniye = girilen_saniye % 60\n",
    "\n",
    "print(\"Girdiğiniz\", girilen_saniye, \"saniye =\\n\", \n",
    "      saat, \"saat\\n\", dakika, \"dakika ve\\n\", \n",
    "      saniye, \"saniye eder.\")"
   ]
  },
  {
   "cell_type": "markdown",
   "metadata": {},
   "source": [
    "13. Sıcaklık Dönüştürücü:\n",
    "\n",
    "Kullanıcıdan Celsius veya Fahrenheit cinsinden bir sıcaklık alarak diğer birime çevirin."
   ]
  },
  {
   "cell_type": "code",
   "execution_count": 23,
   "metadata": {},
   "outputs": [
    {
     "name": "stdout",
     "output_type": "stream",
     "text": [
      "43.0 °C = 109.4 °F\n"
     ]
    }
   ],
   "source": [
    "celcius = float(input(\"Celcius cinsinden sıcaklığı giriniz: \"))\n",
    "fahrenheit = (celcius * 1.8) + 32\n",
    "\n",
    "print(celcius, \"°C =\", fahrenheit, \"°F\")"
   ]
  },
  {
   "cell_type": "markdown",
   "metadata": {},
   "source": [
    "14. Kullanıcıdan mevcut maaşı ve zam yüzdesini alarak yeni maaşı hesaplayın."
   ]
  },
  {
   "cell_type": "code",
   "execution_count": 24,
   "metadata": {},
   "outputs": [
    {
     "name": "stdout",
     "output_type": "stream",
     "text": [
      "Yeni maaşınız: 58500.0\n"
     ]
    }
   ],
   "source": [
    "mevcut_maas = float(input(\"Mevcut maaşınızı giriniz: \"))\n",
    "zam_yuzdesi = float(input(\"Zam yüzdenizi giriniz: \"))\n",
    "\n",
    "zam_miktari = mevcut_maas * (zam_yuzdesi / 100)\n",
    "\n",
    "yeni_maas = mevcut_maas + zam_miktari\n",
    "\n",
    "print(\"Yeni maaşınız:\", yeni_maas)"
   ]
  },
  {
   "cell_type": "markdown",
   "metadata": {},
   "source": [
    "15. İlk 100 pozitif tam sayının toplamını hesaplayın."
   ]
  },
  {
   "cell_type": "code",
   "execution_count": 25,
   "metadata": {},
   "outputs": [
    {
     "name": "stdout",
     "output_type": "stream",
     "text": [
      "İlk 100 pozitif tam sayının toplamı: 5050\n"
     ]
    }
   ],
   "source": [
    "# n = 5 ==> n*(n + 1) / 2\n",
    "\n",
    "n = 100\n",
    "\n",
    "toplam = n * (n + 1) // 2\n",
    "\n",
    "print(\"İlk 100 pozitif tam sayının toplamı:\", toplam)"
   ]
  },
  {
   "cell_type": "markdown",
   "metadata": {},
   "source": [
    "16. Basit Faiz Hesaplama:\n",
    "\n",
    "Kullanıcıdan ana para, faiz oranı ve süre bilgilerini alarak basit faizi hesaplayın.\n",
    "\n",
    "anapara * faiz oranı * süre / 100"
   ]
  },
  {
   "cell_type": "code",
   "execution_count": 26,
   "metadata": {},
   "outputs": [
    {
     "name": "stdout",
     "output_type": "stream",
     "text": [
      "Basit faiz 67500.0 ₺\n"
     ]
    }
   ],
   "source": [
    "principal = float(input(\"Ana parayı giriniz: \"))\n",
    "rate_of_interest = float(input(\"Faiz oranını giriniz: \"))\n",
    "time = int(input(\"Süreyi yıl olarak giriniz: \"))\n",
    "simple_interest = (principal * rate_of_interest * time) / 100\n",
    "\n",
    "print(\"Basit faiz\", round(simple_interest, 2), \"₺\")"
   ]
  },
  {
   "cell_type": "markdown",
   "metadata": {},
   "source": [
    "17. Öğrencilerine 12 haneli öğrenci numarası veren üniversitenin verdiği numaranın ilk 4 hanesi giriş yılı 5. ve 6. hanesi okuduğu fakültenin numarası 7. ve 8. hane bölüm numarası 9. ve 10. hanesi öğrenim numarası 11. ve 12. hane ise öğrencinin üniversiteye giriş sırasıdır. 12 haneli öğrenci kodunu kullanıcıdan alarak anlamlı şekilde ayıran ve ekrana yazan kodu yazınız.\n",
    "\tÖrnek Çıktı:\n",
    "*\tÖğrenci No: 201514110321\n",
    "*\tNUMARANIN ACILIMI:\n",
    "*\tGirisYili: 2015\n",
    "*\tFakulteNo: 14\n",
    "*\tBolumNo: 11\n",
    "*\tOgrenimNo: 03\n",
    "*\tOgrenciNo: 21"
   ]
  },
  {
   "cell_type": "code",
   "execution_count": 27,
   "metadata": {},
   "outputs": [
    {
     "name": "stdout",
     "output_type": "stream",
     "text": [
      "Öğrenci numaranız: 202003010105\n"
     ]
    }
   ],
   "source": [
    "giris_yili = input(\"Üniversiteye giriş yılınızı giriniz: 'Ör: 2024'\")\n",
    "fakulte = input(\"Fakülte kodunuzu giriniz: 'Eğitim-01, Fen-Edebiyat-02, Mühendislik-03, Tıp-04'\")\n",
    "bolum = input(\"Bölüm kodunuzu giriniz: 'Bilgisayar Mühendisliği-01 gibi'\")\n",
    "ogrenimNo = input(\"Öğrenim kodunu giriniz: 'Ör: 05'\")\n",
    "siralama = input(\"Üniversiteye giriş sıra numaranızı yazınız: 'Ör: 99'\")\n",
    "\n",
    "ogrenciNo = giris_yili + fakulte + bolum + ogrenimNo+ siralama\n",
    "\n",
    "print(\"Öğrenci numaranız:\", ogrenciNo)"
   ]
  }
 ],
 "metadata": {
  "kernelspec": {
   "display_name": "Python 3",
   "language": "python",
   "name": "python3"
  },
  "language_info": {
   "codemirror_mode": {
    "name": "ipython",
    "version": 3
   },
   "file_extension": ".py",
   "mimetype": "text/x-python",
   "name": "python",
   "nbconvert_exporter": "python",
   "pygments_lexer": "ipython3",
   "version": "3.11.4"
  }
 },
 "nbformat": 4,
 "nbformat_minor": 2
}
